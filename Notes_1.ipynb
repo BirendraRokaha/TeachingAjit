{
 "cells": [
  {
   "cell_type": "code",
   "execution_count": null,
   "metadata": {},
   "outputs": [],
   "source": [
    "# Print the list in the given format\n",
    "# Name : Ajit Kunwar\n",
    "# Age : 23\n",
    "# Email : AjitKunwar23@email.com\n",
    "\n",
    "person1 = ['Ajit','kunwar',23]\n",
    "person2 = ['Ram','Thapa',44]\n",
    "\n",
    "print(f'Name: {person1[0]} {person1[1]}')\n",
    "print(f'Age : {person1[2]}')\n",
    "print(f'Email : {person1[0]}{person1[1]}{person1[2]}@email.com')"
   ]
  },
  {
   "cell_type": "code",
   "execution_count": null,
   "metadata": {
    "scrolled": true
   },
   "outputs": [],
   "source": [
    "comp = 'CommBank'\n",
    "address = '14 Street'\n",
    "\n",
    "# CommBank is located at 14 street.\n",
    "print(f'{comp} is located at {address}.')"
   ]
  },
  {
   "cell_type": "code",
   "execution_count": null,
   "metadata": {},
   "outputs": [],
   "source": [
    "Name : Ajit Kunwar\n",
    "Age : 23\n",
    "Email : Ajitkunwar23@email.com"
   ]
  },
  {
   "cell_type": "code",
   "execution_count": null,
   "metadata": {
    "scrolled": true
   },
   "outputs": [],
   "source": [
    "# check if the given number is devisable by 5 or not\n",
    "\n",
    "num = int(input())\n",
    "\n",
    "if num%5 == 0:\n",
    "    print(f'{num} is divisible by 5')\n",
    "else:\n",
    "    print(f'{num} is not divisble by 5')"
   ]
  },
  {
   "cell_type": "code",
   "execution_count": null,
   "metadata": {
    "scrolled": true
   },
   "outputs": [],
   "source": [
    "num = int(input())\n",
    "divi = int(input())\n",
    "\n",
    "if num%divi == 0:\n",
    "    print(f'{num} is divisible by {divi}')\n",
    "else:\n",
    "    print(f'{num} is not divisible by {divi}')"
   ]
  },
  {
   "cell_type": "code",
   "execution_count": null,
   "metadata": {
    "scrolled": true
   },
   "outputs": [],
   "source": [
    "# print multiplication table of the number given to 10 places\n",
    "\n",
    "num = int(input())\n",
    "\n",
    "for i in range(1,11):\n",
    "#     num = num * i\n",
    "    print (num * i)"
   ]
  },
  {
   "cell_type": "code",
   "execution_count": null,
   "metadata": {},
   "outputs": [],
   "source": [
    "# i = 0 \n",
    "# num = 5\n",
    "# num = num * i \n",
    "# num = 5 * 0 = 0\n",
    "\n",
    "# i = 1\n",
    "# num = 0\n",
    "# num = num * i = 0 * 1 = 0\n",
    "\n",
    "# i = 2\n",
    "# num = num * 2 = 5 * 2 = 10\n",
    "\n",
    "\n",
    "# i = 3\n",
    "# num = num * 3 = 10 * 3 = 30\n",
    "\n",
    "\n",
    "# 5 * 1 = 5\n",
    "# 5 * 2 = 10\n",
    "# 5 * 3 = 15\n",
    "# .\n",
    "# .\n",
    "# 5 * 10 = 50\n"
   ]
  },
  {
   "cell_type": "code",
   "execution_count": null,
   "metadata": {},
   "outputs": [],
   "source": [
    "# Ask user for initger input and display the multiplication table to 10 places\n",
    "\n",
    "num = int(input())\n",
    "for i in range(1,11):\n",
    "    print(num*i)"
   ]
  },
  {
   "cell_type": "code",
   "execution_count": 18,
   "metadata": {
    "scrolled": true
   },
   "outputs": [
    {
     "name": "stdout",
     "output_type": "stream",
     "text": [
      "6\n",
      "<class 'int'>\n",
      "18\n"
     ]
    }
   ],
   "source": [
    "# int = 342  12 3 45 -1 32\n",
    "# string= 'asdf' '231 masdf'\n",
    "# if string = '4133'\n",
    "\n",
    "\n",
    "# a = 12\n",
    "# b = 43\n",
    "# c = '12'\n",
    "# d = '43'\n",
    "\n",
    "# print(type(a+b))\n",
    "\n",
    "# print(type(c+d))\n",
    "\n",
    "\n",
    "a = int(input()) \n",
    "\n",
    "print(type(a))\n",
    "\n",
    "print(a + 12)"
   ]
  },
  {
   "cell_type": "code",
   "execution_count": null,
   "metadata": {},
   "outputs": [],
   "source": []
  }
 ],
 "metadata": {
  "kernelspec": {
   "display_name": "Python 3",
   "language": "python",
   "name": "python3"
  },
  "language_info": {
   "codemirror_mode": {
    "name": "ipython",
    "version": 3
   },
   "file_extension": ".py",
   "mimetype": "text/x-python",
   "name": "python",
   "nbconvert_exporter": "python",
   "pygments_lexer": "ipython3",
   "version": "3.7.4"
  }
 },
 "nbformat": 4,
 "nbformat_minor": 2
}
