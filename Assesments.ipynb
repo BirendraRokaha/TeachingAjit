{
 "cells": [
  {
   "cell_type": "markdown",
   "metadata": {},
   "source": [
    "## Sort the given array in assending and descending order"
   ]
  },
  {
   "cell_type": "code",
   "execution_count": null,
   "metadata": {},
   "outputs": [],
   "source": [
    "# array\n",
    "\n",
    "arr = [3,6,1,78,23,98,13,78,0,34,67,12,788,12,445,354,56]\n",
    "\n",
    "# Ascending order\n",
    "\n",
    "\n",
    "\n",
    "# Descendig order\n",
    "\n",
    "\n",
    "\n"
   ]
  },
  {
   "cell_type": "code",
   "execution_count": null,
   "metadata": {},
   "outputs": [],
   "source": [
    "# Change the given temp in any scale to other 2 scales Celcius,Farenhiet and Kelvin\n",
    "\n"
   ]
  },
  {
   "cell_type": "code",
   "execution_count": null,
   "metadata": {},
   "outputs": [],
   "source": [
    "# Fibonacchi sequence to a given number provided by user\n",
    "\n",
    "\n"
   ]
  },
  {
   "cell_type": "code",
   "execution_count": null,
   "metadata": {},
   "outputs": [],
   "source": [
    "# User gives =  length breadth height cuboid\n",
    "# Output\n",
    "# perimeter\n",
    "# area \n",
    "# volume\n",
    "\n",
    "# User gives = Principal ammount , Time , SI rate , CI rate\n",
    "# Simple interest and Compound interest\n"
   ]
  }
 ],
 "metadata": {
  "kernelspec": {
   "display_name": "Python 3",
   "language": "python",
   "name": "python3"
  },
  "language_info": {
   "codemirror_mode": {
    "name": "ipython",
    "version": 3
   },
   "file_extension": ".py",
   "mimetype": "text/x-python",
   "name": "python",
   "nbconvert_exporter": "python",
   "pygments_lexer": "ipython3",
   "version": "3.7.4"
  }
 },
 "nbformat": 4,
 "nbformat_minor": 2
}
