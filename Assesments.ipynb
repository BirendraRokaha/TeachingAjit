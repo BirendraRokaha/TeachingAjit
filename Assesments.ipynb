{
 "cells": [
  {
   "cell_type": "markdown",
   "metadata": {},
   "source": [
    "## Sort the given array in assending and descending order"
   ]
  },
  {
   "cell_type": "code",
   "execution_count": null,
   "metadata": {},
   "outputs": [],
   "source": [
    "# array\n",
    "\n",
    "arr = [3,6,1,78,23,98,13,78,0,34,67,12,788,12,445,354,56]\n",
    "\n",
    "# Ascending order\n",
    "\n",
    "\n",
    "\n",
    "# Descendig order\n",
    "\n",
    "\n",
    "\n"
   ]
  },
  {
   "cell_type": "code",
   "execution_count": null,
   "metadata": {},
   "outputs": [],
   "source": [
    "# Change the given temp in any scale to other 2 scales Celcius,Farenhiet and Kelvin\n",
    "\n"
   ]
  },
  {
   "cell_type": "code",
   "execution_count": null,
   "metadata": {},
   "outputs": [],
   "source": [
    "# Fibonacchi sequence to a given number provided by user\n",
    "\n",
    "\n"
   ]
  },
  {
   "cell_type": "code",
   "execution_count": null,
   "metadata": {},
   "outputs": [],
   "source": [
    "# User gives =  length breadth height cuboid\n",
    "# Output\n",
    "# perimeter\n",
    "# area \n",
    "# volume\n",
    "\n",
    "# User gives = Principal ammount , Time , SI rate , CI rate\n",
    "# Simple interest and Compound interest\n"
   ]
  },
  {
   "cell_type": "code",
   "execution_count": null,
   "metadata": {},
   "outputs": [],
   "source": [
    "# Write your own algorithms\n",
    "\n",
    "# Reverse a list\n",
    "arr = [4,6,8,2,8,3,76,8,3,4,2,6,8,23,7,34,78]\n",
    "\n",
    "# return reversed array\n",
    "\n",
    "\n",
    "\n",
    "# Count the number of characters in a string\n",
    "name = input(\"Enter name : \")\n",
    "# eg name = 'John'\n",
    "\n",
    "# eg return John has 4 characters\n",
    "\n",
    "\n",
    "\n",
    "# Reverse a strung\n",
    "name = input(\"Enter name : \")\n",
    "# eg name = 'John'\n",
    "\n",
    "# eg output  John reverse nhoJ\n",
    "\n",
    "\n",
    "\n",
    "# Find if the string is palindrome or not\n",
    "name = input(\"Enter name : \")\n",
    "# eg name = 'John'\n",
    "# eg name = 'bob'\n",
    "\n",
    "# eg output  John is not palindrome\n",
    "# eg output  bob is palindrome\n",
    "\n",
    "\n"
   ]
  },
  {
   "cell_type": "code",
   "execution_count": 20,
   "metadata": {},
   "outputs": [
    {
     "name": "stdout",
     "output_type": "stream",
     "text": [
      "[76, 3, 8, 2, 8, 6, 4]\n"
     ]
    }
   ],
   "source": [
    "# Reverse a list\n",
    "arr = [4,6,8,2,8,3,76]\n",
    "brr = []\n",
    "\n",
    "\n",
    "for i in range(len(arr)-1,-1,-1):\n",
    "    brr.append(arr[i])\n",
    "print(brr)\n",
    "\n",
    "# return reversed array"
   ]
  },
  {
   "cell_type": "code",
   "execution_count": null,
   "metadata": {},
   "outputs": [],
   "source": [
    "# Count the number of characters in a string\n",
    "name = input(\"Enter name : \")\n",
    "# eg name = 'John'\n",
    "\n",
    "# eg return John has 4 characters"
   ]
  },
  {
   "cell_type": "code",
   "execution_count": 23,
   "metadata": {},
   "outputs": [
    {
     "name": "stdout",
     "output_type": "stream",
     "text": [
      "Enter name : John\n",
      "nhoJ\n"
     ]
    }
   ],
   "source": [
    "# Reverse a strung\n",
    "name = input(\"Enter name : \")\n",
    "brr = ''\n",
    "\n",
    "for i in range(len(name)-1,-1,-1):\n",
    "    brr = brr + name[i]\n",
    "\n",
    "print(brr)\n",
    "\n",
    "\n",
    "\n",
    "# eg output  John reverse nhoJ"
   ]
  },
  {
   "cell_type": "code",
   "execution_count": 27,
   "metadata": {
    "scrolled": true
   },
   "outputs": [
    {
     "name": "stdout",
     "output_type": "stream",
     "text": [
      "Enter name : bob\n",
      "bob is palindrome\n"
     ]
    }
   ],
   "source": [
    "# Find if the string is palindrome or not\n",
    "name = input(\"Enter name : \")\n",
    "brr = ''\n",
    "for i in range(len(name)-1,-1,-1):\n",
    "    brr = brr + name[i]\n",
    "if (name == brr):\n",
    "    print(f'{name} is palindrome')\n",
    "else:\n",
    "    print(f'{name} is not palindrome')\n",
    "\n",
    "# eg name = 'John'\n",
    "# eg name = 'bob'\n",
    "\n",
    "# eg output  John is not palindrome\n",
    "# eg output  bob is palindrome\n"
   ]
  },
  {
   "cell_type": "code",
   "execution_count": 20,
   "metadata": {},
   "outputs": [
    {
     "name": "stdout",
     "output_type": "stream",
     "text": [
      "enter a number:1\n",
      "Bob attacked John\n",
      "Health : Bob 100 John 90\n"
     ]
    }
   ],
   "source": [
    "\n",
    "\n",
    "player1 = 'Bob'\n",
    "health1 = 100\n",
    "\n",
    "player2 = 'John'\n",
    "health2 = 100\n",
    "\n",
    "attack = 10\n",
    "\n",
    "user_choice = int(input(\"enter a number:\"))\n",
    "\n",
    "\n",
    "if (user_choice == 1):\n",
    "    print(f'{player1} attacked {player2}')\n",
    "    print(f'Health : {player1} {health1} {player2} {health2 - attack}')\n",
    "elif (user_choice == 2):\n",
    "    print(f'{player2} attacked {player1}')\n",
    "    print(f'Health : {player1} {health1 - attack} {player2} {health2}')\n",
    "else:\n",
    "    print('Wrong input')\n",
    "\n",
    "\n",
    "\n",
    "\n",
    "\n",
    "\n",
    "\n",
    "\n"
   ]
  },
  {
   "cell_type": "code",
   "execution_count": null,
   "metadata": {},
   "outputs": [],
   "source": [
    "# 2 player fighting game\n",
    "\n",
    "# starting health 100 \n",
    "# each attack damages 10 HP\n",
    "\n",
    "# Write a fighting game\n",
    "\n",
    "# ask name for each player\n",
    "\n",
    "\n",
    "# print like this in every attack\n",
    "# Bob attacked John\n",
    "# Health : Bob 100 John 90\n",
    "\n",
    "# ..\n",
    "# ..\n",
    "# .\n",
    "# fighting\n",
    "\n",
    "\n",
    "# print like this in every attack\n",
    "# Bob attacked John\n",
    "# Health : Bob 20 John 0\n",
    "\n",
    "# Bob won the match\n"
   ]
  },
  {
   "cell_type": "code",
   "execution_count": null,
   "metadata": {},
   "outputs": [],
   "source": []
  }
 ],
 "metadata": {
  "kernelspec": {
   "display_name": "Python 3",
   "language": "python",
   "name": "python3"
  },
  "language_info": {
   "codemirror_mode": {
    "name": "ipython",
    "version": 3
   },
   "file_extension": ".py",
   "mimetype": "text/x-python",
   "name": "python",
   "nbconvert_exporter": "python",
   "pygments_lexer": "ipython3",
   "version": "3.7.4"
  }
 },
 "nbformat": 4,
 "nbformat_minor": 2
}
