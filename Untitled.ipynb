{
 "cells": [
  {
   "cell_type": "code",
   "execution_count": 3,
   "metadata": {
    "scrolled": true
   },
   "outputs": [
    {
     "name": "stdout",
     "output_type": "stream",
     "text": [
      "1 for C, 2 for F and 3 for K : 8\n",
      "1 for C, 2 for F and 3 for K : 9\n",
      "1 for C, 2 for F and 3 for K : 1\n",
      "1\n"
     ]
    }
   ],
   "source": [
    "# while loops \n",
    "\n",
    "given_scale = 0\n",
    "\n",
    "while given_scale not in [1,2,3]:\n",
    "    given_scale = int(input(\"1 for C, 2 for F and 3 for K : \"))\n",
    "    \n",
    "print(given_scale)"
   ]
  },
  {
   "cell_type": "code",
   "execution_count": null,
   "metadata": {},
   "outputs": [],
   "source": [
    "\n",
    "i = 0\n",
    "\n",
    "while i < 5:\n",
    "    print(\"run loop\")\n",
    "    i += 1"
   ]
  },
  {
   "cell_type": "code",
   "execution_count": null,
   "metadata": {},
   "outputs": [],
   "source": [
    "(1 not in [1,2,3]) = False"
   ]
  },
  {
   "cell_type": "code",
   "execution_count": 8,
   "metadata": {},
   "outputs": [
    {
     "name": "stdout",
     "output_type": "stream",
     "text": [
      "Gunda\n",
      "Maha Gunda\n"
     ]
    }
   ],
   "source": [
    "class villan():\n",
    "    def __init__(self,name,health,level):\n",
    "        self.name = name\n",
    "        self.health = health\n",
    "        self.level = level\n",
    "    \n",
    "\n",
    "villan1 = villan(\"Gunda\",100,10)\n",
    "villan2 = villan(\"Maha Gunda\",150,15)\n",
    "\n",
    "print(villan1.name)\n",
    "print(villan2.name)"
   ]
  },
  {
   "cell_type": "code",
   "execution_count": null,
   "metadata": {},
   "outputs": [],
   "source": [
    "# Fibonacchi sequence to a given number provided by user\n",
    "\n",
    "\n"
   ]
  }
 ],
 "metadata": {
  "kernelspec": {
   "display_name": "Python 3",
   "language": "python",
   "name": "python3"
  },
  "language_info": {
   "codemirror_mode": {
    "name": "ipython",
    "version": 3
   },
   "file_extension": ".py",
   "mimetype": "text/x-python",
   "name": "python",
   "nbconvert_exporter": "python",
   "pygments_lexer": "ipython3",
   "version": "3.7.4"
  }
 },
 "nbformat": 4,
 "nbformat_minor": 2
}
