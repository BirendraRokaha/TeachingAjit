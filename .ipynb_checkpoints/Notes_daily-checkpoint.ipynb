{
 "cells": [
  {
   "cell_type": "code",
   "execution_count": null,
   "metadata": {},
   "outputs": [],
   "source": [
    "\n",
    "str name = 'ajit'\n",
    "name = 23\n",
    "\n",
    "# temp = 30\n",
    "print(name)\n",
    "\n",
    "# print(temp)\n",
    "\n",
    "\n",
    "# a = \"ajit\"\n",
    "# b = \"kunwar\"\n",
    "# c = a + ' ' + b\n",
    "\n",
    "# print(c)\n",
    "\n",
    "name = 12\n",
    "\n",
    "print(name)\n",
    "\n",
    "name = True\n",
    "\n",
    "print(name)\n",
    "\n",
    "name = 'ram'\n",
    "\n",
    "print(name)\n",
    "\n",
    "name = 'ajit'\n",
    "\n",
    "print(name)"
   ]
  },
  {
   "cell_type": "code",
   "execution_count": null,
   "metadata": {},
   "outputs": [],
   "source": [
    "# Data Types\n",
    "\n",
    "# Primitive\n",
    "\n",
    "'''\n",
    "int = numbers  eg 1,5,457,686,-1,-234\n",
    "float = numbers with decimal points 23.43, 312.421, -234.234 \n",
    "string = \"Ajit\", \"20\"\n",
    "boolean = True/False \n",
    "'''"
   ]
  },
  {
   "cell_type": "code",
   "execution_count": null,
   "metadata": {
    "scrolled": true
   },
   "outputs": [],
   "source": [
    "# Array / List\n",
    "\n",
    "arr = [4,5,6,8,5,3,65]\n",
    "brr = ['rita','gita','rita']\n",
    "crr = ['ajit',23,1000.5,True]\n",
    "\n",
    "# print(arr)\n",
    "# print(brr)\n",
    "\n",
    "\n",
    "\n",
    "brr = ['rita','gita','sita']\n",
    "\n",
    "\n",
    "print(brr[3])"
   ]
  },
  {
   "cell_type": "code",
   "execution_count": null,
   "metadata": {
    "scrolled": false
   },
   "outputs": [],
   "source": [
    "# User input\n",
    "\n",
    "name = input()\n",
    "\n",
    "print(name)\n",
    "\n"
   ]
  },
  {
   "cell_type": "code",
   "execution_count": null,
   "metadata": {},
   "outputs": [],
   "source": [
    "# Static lang\n",
    "\n",
    "# C\n",
    "\n",
    "# int a = 12\n",
    "# a = 32\n",
    "# int b = 30.3\n",
    "# int sum = a+b\n",
    "\n",
    "Dynamic\n",
    "\n",
    "a = 12\n",
    "b = 32\n",
    "c = a + b\n"
   ]
  },
  {
   "cell_type": "code",
   "execution_count": null,
   "metadata": {
    "scrolled": true
   },
   "outputs": [],
   "source": [
    "\n",
    "input_var = input()\n",
    "print(input_var)"
   ]
  },
  {
   "cell_type": "code",
   "execution_count": null,
   "metadata": {},
   "outputs": [],
   "source": [
    "arr = [4,5,7,1,9]\n",
    "\n",
    "a = arr[0]\n",
    "l = len(arr)\n",
    "\n",
    "\n",
    "\n",
    "\n",
    "for i in range(l):\n",
    "    print(arr[i])\n",
    "    \n",
    "    \n",
    "    \n",
    "    "
   ]
  },
  {
   "cell_type": "code",
   "execution_count": null,
   "metadata": {},
   "outputs": [],
   "source": [
    "\n",
    "for i = 0, i < 9, i = i + 1\n",
    "{\n",
    "    print('ajit kunwar')   \n",
    "}    \n",
    "\n",
    "\n",
    "    \n",
    "i = 0\n",
    "\n",
    "i = 1"
   ]
  },
  {
   "cell_type": "code",
   "execution_count": null,
   "metadata": {
    "scrolled": true
   },
   "outputs": [],
   "source": [
    "\n",
    "for i in range(9):\n",
    "    print('ajit')\n",
    "    \n",
    "    \n",
    "    \n",
    "\n",
    "print('ram')\n",
    "    \n"
   ]
  },
  {
   "cell_type": "code",
   "execution_count": null,
   "metadata": {
    "scrolled": true
   },
   "outputs": [],
   "source": [
    "age = 20\n",
    "\n",
    "if age >= 18:\n",
    "    print('you can vote')\n",
    "else:\n",
    "    print(\"you can't vote\")"
   ]
  },
  {
   "cell_type": "code",
   "execution_count": null,
   "metadata": {},
   "outputs": [],
   "source": []
  },
  {
   "cell_type": "code",
   "execution_count": null,
   "metadata": {
    "scrolled": true
   },
   "outputs": [],
   "source": [
    "# Write a program that takes 5 subject marks form \n",
    "# the user gets the percentage and returns the division\n",
    "\n",
    "# 5 subject input = 5 var = datatype int,float\n",
    "# input form user = input()\n",
    "\n",
    "maths = float(input(\"marks maths: \"))\n",
    "science = float(input(\"marks sci: \"))\n",
    "comp = float(input(\"marks comp: \"))\n",
    "eng = float(input(\"marks eng: \"))\n",
    "nep = float(input(\"marks nep: \"))\n",
    "\n",
    "# percentage calc\n",
    "# obtmarks = (maths + science + comp + eng + nep)\n",
    "per = ((maths + science + comp + eng + nep)/500)*100\n",
    "print(per)\n",
    "\n",
    "# edge case fail = marks less than 40 \n",
    "if (maths < 40) or (science < 40) or (comp < 40) or (eng < 40) or (nep < 40):\n",
    "    print('Fail')\n",
    "\n",
    "# returns the division\n",
    "# dist = 80% to 100%\n",
    "# 1div = 60 == (60.00 - 60.99) to 79.99\n",
    "# 2dnd = 50 to 59\n",
    "# 3div = 40 to 49\n",
    "if (per >= 80 and per <= 100):\n",
    "    print(\"Distinction\")\n",
    "elif (per >= 60 and per < 80):\n",
    "    print(\"First Div\")\n",
    "elif (per >= 50 and per < 60):\n",
    "    print(\"Second Div\")\n",
    "elif (per >= 40 and per < 50):\n",
    "    print(\"Third Div\")\n",
    "else:\n",
    "    print('Fail Div')"
   ]
  },
  {
   "cell_type": "code",
   "execution_count": null,
   "metadata": {},
   "outputs": [],
   "source": [
    "# programming\n",
    "# programming is business logic translation\n",
    "# make app\n",
    "# trucking  transport goods form syd to melb\n",
    "\n",
    "\n",
    "and = true and true if all true then true => true\n",
    "\n",
    "or = only one true is true => \n",
    "\n",
    "not = true "
   ]
  },
  {
   "cell_type": "code",
   "execution_count": null,
   "metadata": {},
   "outputs": [],
   "source": [
    "\n",
    "# if (this):\n",
    "#     then do this\n",
    "# else:\n",
    "#     do this\n",
    "\n",
    "\n",
    "if (cond.):\n",
    "    do this\n",
    "elif (cond.):\n",
    "    do this\n",
    "else:\n",
    "    this\n",
    "\n",
    "\n",
    "\n",
    "\n",
    "color = 'green'\n",
    "\n",
    "if color == 'green':\n",
    "    print('yes fav color')\n",
    "else:\n",
    "    print('dont like color')\n"
   ]
  },
  {
   "cell_type": "code",
   "execution_count": null,
   "metadata": {},
   "outputs": [],
   "source": [
    "= assignment\n",
    "== equal to "
   ]
  },
  {
   "cell_type": "code",
   "execution_count": null,
   "metadata": {
    "scrolled": true
   },
   "outputs": [],
   "source": [
    "\n",
    "\n",
    "tax_rate = 13.5\n",
    "\n",
    "iphone = 900\n",
    "\n",
    "tax_ammount = (13.5 / 100) * 900\n",
    "\n",
    "print(tax_ammount)\n",
    "\n",
    "\n",
    "meal = 12\n",
    "\n",
    "tip_per = 20\n",
    "\n",
    "tip_ammount = 12  20"
   ]
  },
  {
   "cell_type": "code",
   "execution_count": null,
   "metadata": {},
   "outputs": [],
   "source": [
    "\n",
    "# Given an integer, , perform the following conditional actions:\n",
    "\n",
    "num = 4\n",
    "\n",
    "# If  is odd, print Weird\n",
    "\n",
    "if (num % 2 == 1 ):\n",
    "    print('Weird')\n",
    "\n",
    "# If  is even and in the inclusive range of 2 to 5 , print Not Weird\n",
    "elif (2 <= num <= 5):\n",
    "    print(\"Not Weird\")\n",
    "\n",
    "\n",
    "# If  is even and in the inclusive range of 6 to 20 , print Weird\n",
    "elif (6 <= num <= 20):\n",
    "    print(\"Weird\")\n",
    "\n",
    "\n",
    "# If  is even and greater than 20, print Not Weird\n",
    "else :\n",
    "    print('Not Weird')\n",
    "\n",
    "\n"
   ]
  },
  {
   "cell_type": "code",
   "execution_count": null,
   "metadata": {
    "scrolled": true
   },
   "outputs": [],
   "source": [
    "\n",
    "\n",
    "# Even or Odd\n",
    "\n",
    "# What is even\n",
    "\n",
    "# What is odd\n",
    "\n",
    "num = 15\n",
    "\n",
    "num1 = 12\n",
    "\n",
    "if (num1 % 2 == 0):\n",
    "    print('Even')\n",
    "else:\n",
    "    print('odd')\n",
    "\n",
    "\n"
   ]
  },
  {
   "cell_type": "code",
   "execution_count": null,
   "metadata": {
    "scrolled": true
   },
   "outputs": [],
   "source": [
    "print(\"asdf\")"
   ]
  },
  {
   "cell_type": "code",
   "execution_count": null,
   "metadata": {
    "scrolled": true
   },
   "outputs": [],
   "source": [
    "# loops\n",
    "# for loop\n",
    "\n",
    "\n",
    "# for i = 0, i < 10, i += 1:\n",
    "#     print(\"Hello\")\n",
    "\n",
    "\n",
    "\n",
    "name = \"Ajit\"\n",
    "\n",
    "n = 5\n",
    "\n",
    "for i in range(10):\n",
    "    print(f'{n} ** {i} = {n**i}')\n",
    "    print(f'My name is {n}')\n",
    "\n",
    "\n",
    "1 st loop \n",
    "i == 0 : i < 10 : i +=1\n",
    "'{n} ** {i} = {n**i}'        \n",
    "  5      0  =   1\n",
    "    \n",
    "2nd loop\n",
    "i = 1 : i < 10 : i +=2\n",
    "'{n} ** {i} = {n**i}'        \n",
    "  5      1  =   5\n"
   ]
  },
  {
   "cell_type": "code",
   "execution_count": null,
   "metadata": {},
   "outputs": [],
   "source": [
    "arr = [3,6,1,0,4,7,13,7,33]\n",
    "\n",
    "ref_val =  arr[0]\n",
    "\n",
    "\n",
    "for i  "
   ]
  },
  {
   "cell_type": "code",
   "execution_count": null,
   "metadata": {},
   "outputs": [],
   "source": [
    "\n",
    "# Python Beginner\n",
    "\n",
    "# Set up python enviroment at least 2 \n",
    "\n",
    "# basic Variable\n",
    "\n",
    "# Basic Datatypes\n",
    "\n",
    "# Input Output\n",
    "\n",
    "# Basic maths operations\n",
    "\n",
    "# Basics of Loop for and while\n",
    "\n",
    "# Basics of conditionals\n",
    "\n"
   ]
  },
  {
   "cell_type": "code",
   "execution_count": null,
   "metadata": {},
   "outputs": [],
   "source": [
    "# Lists/array  = collection of objects it is mutable\n",
    "\n",
    "\n",
    "\n",
    "arr = [2,1,4,5,6,7,234,345,123,56,134] \n",
    "\n",
    "# Indexing\n",
    "\n",
    "# print(arr[-1])\n",
    "# print(arr[1])\n",
    "\n",
    "# Slicing\n",
    "\n",
    "# [startindex : end index : step ]\n",
    "# print(arr[::-1])\n",
    "\n",
    "\n",
    "\n",
    "\n",
    "\n"
   ]
  },
  {
   "cell_type": "code",
   "execution_count": null,
   "metadata": {
    "scrolled": true
   },
   "outputs": [],
   "source": [
    "# is array given\n",
    "\n",
    "# take a reference value\n",
    "\n",
    "# check with every value\n",
    "\n",
    "# if value checked is > ref value change ref value to checked value\n",
    "\n",
    "\n",
    "arr = [2,1,4,5,6,7,234,345,123,56,134] \n",
    "\n",
    "ref_value = arr[0]\n",
    "\n",
    "lenarr = len(arr)\n",
    "\n",
    "for i in range(lenarr):\n",
    "    if (arr[i] < ref_value):\n",
    "        ref_value = arr[i]\n",
    "        \n",
    "print(ref_value)\n"
   ]
  },
  {
   "cell_type": "code",
   "execution_count": null,
   "metadata": {
    "scrolled": false
   },
   "outputs": [],
   "source": [
    "# Array functions\n",
    "\n",
    "arr = [2,8,5,7,3,1,6,9]\n",
    "\n",
    "\n"
   ]
  },
  {
   "cell_type": "code",
   "execution_count": null,
   "metadata": {},
   "outputs": [],
   "source": []
  },
  {
   "cell_type": "code",
   "execution_count": null,
   "metadata": {},
   "outputs": [],
   "source": []
  },
  {
   "cell_type": "code",
   "execution_count": null,
   "metadata": {},
   "outputs": [],
   "source": []
  },
  {
   "cell_type": "code",
   "execution_count": null,
   "metadata": {},
   "outputs": [],
   "source": []
  },
  {
   "cell_type": "code",
   "execution_count": null,
   "metadata": {},
   "outputs": [],
   "source": []
  },
  {
   "cell_type": "code",
   "execution_count": null,
   "metadata": {},
   "outputs": [],
   "source": []
  },
  {
   "cell_type": "code",
   "execution_count": null,
   "metadata": {
    "scrolled": true
   },
   "outputs": [],
   "source": [
    "# Array max and min\n",
    "\n",
    "arr = [2,8,5,7,3,1,6,9]\n",
    "max_value = arr[0]\n",
    "min_value = arr[0]\n",
    "arrlen = len(arr)\n",
    "for i in range (arrlen):\n",
    "    if (arr[i]> max_value):\n",
    "        max_value = arr[i]\n",
    "        \n",
    "    if (arr[i]< min_value):\n",
    "        min_value = arr[i]\n",
    "    \n",
    "print(f'Max = {max_value} \\nMin = {min_value}')\n",
    "\n"
   ]
  },
  {
   "cell_type": "code",
   "execution_count": null,
   "metadata": {
    "scrolled": true
   },
   "outputs": [],
   "source": [
    "# Sorting\n",
    "\n",
    "arr = [2,8,5,7,3,1,6,9]\n",
    "\n",
    "\n",
    "\n",
    "\n",
    "for i in range(len(arr)):\n",
    "    \n",
    "    for j in range(i,len(arr)):\n",
    "        \n",
    "        if (arr[i] > arr[j]):\n",
    "            \n",
    "            temp = arr[j]\n",
    "            arr[j] = arr[i]\n",
    "            arr[i] = temp\n",
    "            \n",
    "print(arr)\n",
    "        \n"
   ]
  },
  {
   "cell_type": "code",
   "execution_count": null,
   "metadata": {},
   "outputs": [],
   "source": [
    "\n",
    "first layer\n",
    "[2,8,5,7,3,1,6,9]\n",
    "    \n",
    "    i = 0 == 2\n",
    "\n",
    "    second layer\n",
    "    [2,8,5,7,3,1,6,9]\n",
    "\n",
    "\n",
    "after first outer loop"
   ]
  },
  {
   "cell_type": "code",
   "execution_count": null,
   "metadata": {},
   "outputs": [],
   "source": []
  },
  {
   "cell_type": "code",
   "execution_count": null,
   "metadata": {
    "scrolled": true
   },
   "outputs": [],
   "source": [
    "# Nested loop\n",
    "\n",
    "names = ['f','y','e','a','b','c','s']\n",
    "\n",
    "print(f'Original {names}')\n",
    "\n",
    "for i in range(len(names)):\n",
    "    \n",
    "    for j in range(i,len(names)):\n",
    "#         print(f'outer loop = step {i} value {names[i]} \\tinner loop = step {j} value {names[j]}')\n",
    "        \n",
    "        if (names[i] < names[j]):\n",
    "            temp = names[i]\n",
    "            names[i] = names[j]\n",
    "            names[j] = temp\n",
    "\n",
    "print(f'Sorted {names}')"
   ]
  },
  {
   "cell_type": "code",
   "execution_count": null,
   "metadata": {},
   "outputs": [],
   "source": [
    "# Check if an item is on the list or not\n",
    "\n",
    "arr = [54,24,76,12,99,43,76,13,76,98,23,67]\n",
    "\n",
    "target = int(input())\n",
    "\n",
    "\n",
    "lenarr=len(arr)\n",
    "\n",
    "# check all values form the loop\n",
    "\n",
    "# if target in loop then pass\n",
    "\n",
    "# if target nor in loop then fail\n",
    "\n",
    "\n",
    "\n"
   ]
  },
  {
   "cell_type": "code",
   "execution_count": null,
   "metadata": {
    "scrolled": true
   },
   "outputs": [],
   "source": [
    "arr = [54,24,76,12,99,43,76,13,76,98,23,67]\n",
    "\n",
    "target = 20\n",
    "\n",
    "for i in range(len(arr)):\n",
    "#     print(arr[i])\n",
    "    if (arr[i] == target):\n",
    "        print('yes')\n",
    "\n",
    "\n",
    "print('false')"
   ]
  },
  {
   "cell_type": "code",
   "execution_count": null,
   "metadata": {},
   "outputs": [],
   "source": [
    "arr = [54,24,76,12,99,43,76,13,76,98,23,67]\n",
    "\n",
    "# sort this loop\n",
    "\n",
    "#checking value from array in ascending order by nested loop\n",
    "for i in range( len(arr)):\n",
    "    for j in range(i, len(arr)):\n",
    "        #each row checks every column in one phase and gets the lowest value\n",
    "        if(arr[i]>arr[j]):\n",
    "            temp = arr[i]\n",
    "            arr[i] = arr[j]\n",
    "            arr[j] = temp\n",
    "            "
   ]
  },
  {
   "cell_type": "code",
   "execution_count": null,
   "metadata": {
    "scrolled": true
   },
   "outputs": [],
   "source": [
    "# Swap these values\n",
    "\n",
    "a = int(input())\n",
    "\n",
    "b = int(input())\n",
    "\n",
    "print(a,b)\n",
    "\n",
    "temp=a\n",
    "a=b\n",
    "b=temp\n",
    "\n",
    "print(a,b)\n"
   ]
  },
  {
   "cell_type": "code",
   "execution_count": null,
   "metadata": {
    "scrolled": true
   },
   "outputs": [],
   "source": [
    "fname = \"Ajit\"\n",
    "lname = \"Kunwar\"\n",
    "age = 23\n",
    "arr = ['Ajit','Kunwar',23]\n",
    "\n",
    "# My name is fname lname. I am age years old.\n",
    "\n",
    "print(f'My name is {fname} {lname}. I am {age} years old.')\n",
    "\n"
   ]
  },
  {
   "cell_type": "code",
   "execution_count": null,
   "metadata": {
    "scrolled": true
   },
   "outputs": [],
   "source": [
    "length = len(arr)\n",
    "\n",
    "print(length)"
   ]
  },
  {
   "cell_type": "code",
   "execution_count": null,
   "metadata": {},
   "outputs": [],
   "source": [
    "# function = does some actions and returs some results\n",
    "name = \"Ajit\"\n",
    "\n",
    "\n",
    "print(f'Hello World! {name}')\n",
    "\n"
   ]
  },
  {
   "cell_type": "code",
   "execution_count": null,
   "metadata": {
    "scrolled": true
   },
   "outputs": [],
   "source": []
  },
  {
   "cell_type": "code",
   "execution_count": null,
   "metadata": {
    "scrolled": true
   },
   "outputs": [],
   "source": [
    "dc = 38\n",
    "\n",
    "df = dc * (9/5) + 32\n",
    "\n",
    "dk = dc + 273.15\n",
    "\n",
    "print(f'Celcius = {dc} Farenhit = {df} Kelvin = {dk}')"
   ]
  },
  {
   "cell_type": "code",
   "execution_count": null,
   "metadata": {
    "scrolled": false
   },
   "outputs": [],
   "source": [
    "# Temp converter\n",
    "given_scale = 0\n",
    "while given_scale != (1 or 2 or 3):\n",
    "    given_scale = int(input(\"1 for C, 2 for F and 3 for K : \"))\n",
    "\n",
    "given_temp = float(input(\"Enter the Temperature : \"))\n",
    "\n",
    "if given_scale == 1:\n",
    "    df = given_temp * (9/5) + 32\n",
    "    dk = given_temp + 273.15\n",
    "    print(f\"Given temp in Celcius = {given_temp}\")\n",
    "    print(f\"Farenheit = {df} and Kelvin = {dk}\")\n",
    "elif given_scale == 2:\n",
    "    dc = (given_temp - 32) * 5/9\n",
    "    dk = (given_temp + 459.67) * 5/9\n",
    "    print(f\"Given temp in farhenit = {given_temp}\")\n",
    "    print(f\"celsius = {dc} and Kelvin = {dk}\")\n",
    "elif given_scale == 3:\n",
    "\n",
    "    df = given_temp * (9/5) - 459.67\n",
    "    dc = given_temp - 273.15\n",
    "    print(f\"Given temp in kelvin = {given_temp}\")\n",
    "    print(f\"Farenheit = {df} and celsisus = {dc}\")\n",
    "\n",
    "    \n",
    "    \n"
   ]
  },
  {
   "cell_type": "code",
   "execution_count": null,
   "metadata": {},
   "outputs": [],
   "source": [
    "\n",
    "i = 0\n",
    "while i < 5:\n",
    "    print(i)\n",
    "    i += 1\n",
    "\n",
    "    \n",
    "print(\"loop end\")  \n"
   ]
  },
  {
   "cell_type": "code",
   "execution_count": null,
   "metadata": {
    "scrolled": true
   },
   "outputs": [],
   "source": [
    "\n",
    "given_scale = 0\n",
    "\n",
    "while given_scale != (1 or 2 or 3):\n",
    "    \n",
    "    given_scale = int(input(\"1 for C, 2 for F and 3 for K : \"))\n",
    "\n",
    "    \n",
    "print(given_scale)"
   ]
  },
  {
   "cell_type": "code",
   "execution_count": null,
   "metadata": {},
   "outputs": [],
   "source": [
    "# Truth table\n",
    "And Or Not\n",
    "AND\n",
    "t t = t\n",
    "t f = f\n",
    "f t = f\n",
    "f f = f\n",
    "\n",
    "OR\n",
    "t t = t\n",
    "t f = t\n",
    "f t = t\n",
    "f f = f\n",
    "\n",
    "NOT\n",
    "t = f\n",
    "f = t"
   ]
  },
  {
   "cell_type": "code",
   "execution_count": null,
   "metadata": {},
   "outputs": [],
   "source": [
    "a = True\n",
    "\n",
    "while a != False:\n",
    "    print(a)\n",
    "    a = bool(input())\n",
    "    \n"
   ]
  }
 ],
 "metadata": {
  "kernelspec": {
   "display_name": "Python 3",
   "language": "python",
   "name": "python3"
  },
  "language_info": {
   "codemirror_mode": {
    "name": "ipython",
    "version": 3
   },
   "file_extension": ".py",
   "mimetype": "text/x-python",
   "name": "python",
   "nbconvert_exporter": "python",
   "pygments_lexer": "ipython3",
   "version": "3.7.4"
  }
 },
 "nbformat": 4,
 "nbformat_minor": 2
}
