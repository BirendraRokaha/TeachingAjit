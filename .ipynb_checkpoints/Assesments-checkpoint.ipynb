{
 "cells": [
  {
   "cell_type": "markdown",
   "metadata": {},
   "source": [
    "## Sort the given array in assending and descending order"
   ]
  },
  {
   "cell_type": "code",
   "execution_count": null,
   "metadata": {},
   "outputs": [],
   "source": [
    "# array\n",
    "\n",
    "arr = [3,6,1,78,23,98,13,78,0,34,67,12,788,12,445,354,56]\n",
    "\n",
    "# Ascending order\n",
    "\n",
    "\n",
    "\n",
    "# Descendig order\n",
    "\n",
    "\n",
    "\n"
   ]
  },
  {
   "cell_type": "code",
   "execution_count": null,
   "metadata": {},
   "outputs": [],
   "source": [
    "# Change the given temp in any scale to other 2 scales Celcius,Farenhiet and Kelvin\n",
    "\n"
   ]
  },
  {
   "cell_type": "code",
   "execution_count": null,
   "metadata": {},
   "outputs": [],
   "source": [
    "# Fibonacchi sequence to a given number provided by user\n",
    "\n",
    "\n"
   ]
  },
  {
   "cell_type": "code",
   "execution_count": null,
   "metadata": {},
   "outputs": [],
   "source": [
    "# User gives =  length breadth height cuboid\n",
    "# Output\n",
    "# perimeter\n",
    "# area \n",
    "# volume\n",
    "\n",
    "# User gives = Principal ammount , Time , SI rate , CI rate\n",
    "# Simple interest and Compound interest\n"
   ]
  },
  {
   "cell_type": "code",
   "execution_count": null,
   "metadata": {},
   "outputs": [],
   "source": [
    "# Write your own algorithms\n",
    "\n",
    "# Reverse a list\n",
    "arr = [4,6,8,2,8,3,76,8,3,4,2,6,8,23,7,34,78]\n",
    "\n",
    "# return reversed array\n",
    "\n",
    "\n",
    "\n",
    "# Count the number of characters in a string\n",
    "name = input(\"Enter name : \")\n",
    "# eg name = 'John'\n",
    "\n",
    "# eg return John has 4 characters\n",
    "\n",
    "\n",
    "\n",
    "# Reverse a strung\n",
    "name = input(\"Enter name : \")\n",
    "# eg name = 'John'\n",
    "\n",
    "# eg output  John reverse nhoJ\n",
    "\n",
    "\n",
    "\n",
    "# Find if the string is palindrome or not\n",
    "name = input(\"Enter name : \")\n",
    "# eg name = 'John'\n",
    "# eg name = 'bob'\n",
    "\n",
    "# eg output  John is not palindrome\n",
    "# eg output  bob is palindrome\n",
    "\n",
    "\n"
   ]
  }
 ],
 "metadata": {
  "kernelspec": {
   "display_name": "Python 3",
   "language": "python",
   "name": "python3"
  },
  "language_info": {
   "codemirror_mode": {
    "name": "ipython",
    "version": 3
   },
   "file_extension": ".py",
   "mimetype": "text/x-python",
   "name": "python",
   "nbconvert_exporter": "python",
   "pygments_lexer": "ipython3",
   "version": "3.7.4"
  }
 },
 "nbformat": 4,
 "nbformat_minor": 2
}
